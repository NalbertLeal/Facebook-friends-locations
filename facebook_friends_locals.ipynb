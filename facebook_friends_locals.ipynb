{
 "cells": [
  {
   "cell_type": "markdown",
   "metadata": {},
   "source": [
    "# Locals that your facebook friends visit more"
   ]
  },
  {
   "cell_type": "markdown",
   "metadata": {},
   "source": [
    "- "
   ]
  },
  {
   "cell_type": "markdown",
   "metadata": {},
   "source": [
    "## Install_the_librarys"
   ]
  },
  {
   "cell_type": "code",
   "execution_count": 3,
   "metadata": {
    "collapsed": false
   },
   "outputs": [
    {
     "name": "stdout",
     "output_type": "stream",
     "text": [
      "Requirement already satisfied: facebook-sdk in c:\\users\\nalbertg\\anaconda3\\lib\\site-packages\n",
      "Requirement already satisfied: requests in c:\\users\\nalbertg\\anaconda3\\lib\\site-packages (from facebook-sdk)\n",
      "Requirement already satisfied: statistics in c:\\users\\nalbertg\\anaconda3\\lib\\site-packages\n",
      "Requirement already satisfied: docutils>=0.3 in c:\\users\\nalbertg\\anaconda3\\lib\\site-packages (from statistics)\n"
     ]
    }
   ],
   "source": [
    "### Library necessary to run this IPython Notebook\n",
    "!pip install facebook-sdk\n",
    "!pip install statistics\n",
    "\n",
    "### API >> https://facebook-sdk.readthedocs.io/en/latest/api.html\n",
    "### Get access token >> https://developers.facebook.com/tools/explorer"
   ]
  },
  {
   "cell_type": "markdown",
   "metadata": {},
   "source": [
    "## Creating_the_fecebook_graph_API_access"
   ]
  },
  {
   "cell_type": "code",
   "execution_count": 4,
   "metadata": {
    "collapsed": true
   },
   "outputs": [],
   "source": [
    "import facebook\n",
    "\n",
    "token = 'EAACEdEose0cBADt3qBzFrw5wokq6LtvfZAF4t6UQPIUkuZAQq55JqhZCyKNREtq9kY5xZCCZCJVkybE3EqKZA1uBZAUtZCgZBDFJlJWcfLiESR3RrOtOZBLjpT5POv5CVPuwKO2YK2SxdBHOwpANF0O5hfwJyRXvkRe1oabj7s9TIap11YGkcZC7z3r5FTfwB33ZCbsZD' \n",
    "graph = facebook.GraphAPI(access_token=token, version='2.2')"
   ]
  },
  {
   "cell_type": "markdown",
   "metadata": {},
   "source": [
    "## Getting_the_friends"
   ]
  },
  {
   "cell_type": "code",
   "execution_count": 23,
   "metadata": {
    "collapsed": false
   },
   "outputs": [
    {
     "data": {
      "text/plain": [
       "[{'id': '10201855269808768', 'name': 'Bianca Oliveira'},\n",
       " {'id': '862034200484130', 'name': 'Ivan Alisson'},\n",
       " {'id': '771035609598210', 'name': 'Jefferson Moura'},\n",
       " {'id': '827716863930873', 'name': 'Misael Batista Damasceno'},\n",
       " {'id': '100000888984231', 'name': 'Luan Fonseca'},\n",
       " {'id': '979817738728907', 'name': 'Ana Cristina'},\n",
       " {'id': '731368400265926', 'name': 'Matheus Batistussi'},\n",
       " {'id': '524429947699837', 'name': 'Gustavo Rodarte'},\n",
       " {'id': '1595959920660890', 'name': 'Ester Carvalho'}]"
      ]
     },
     "execution_count": 23,
     "metadata": {},
     "output_type": "execute_result"
    }
   ],
   "source": [
    "friends = graph.get_object(\"me/friends\")\n",
    "#friends['summary']['total_count']\n",
    "friendsStartList = friends['data']"
   ]
  },
  {
   "cell_type": "markdown",
   "metadata": {
    "collapsed": true
   },
   "source": [
    "## Get_each_user_locations"
   ]
  },
  {
   "cell_type": "code",
   "execution_count": 31,
   "metadata": {
    "collapsed": false
   },
   "outputs": [
    {
     "name": "stdout",
     "output_type": "stream",
     "text": [
      "862034200484130   Ivan Alisson   {'id': '1416773458343532', 'created_time': '2017-04-16T23:22:29+0000', 'place': {'id': '718906278196684', 'location': {'city': 'Natal', 'country': 'Brazil', 'latitude': -5.8841528, 'longitude': -35.1790423, 'state': 'RN', 'street': 'Rua Das Algas', 'zip': '59090-410'}, 'name': 'Rossopomodoro Da Francesco'}} \n",
      "\n",
      "862034200484130   Ivan Alisson   {'id': '1412853815402163', 'created_time': '2017-04-13T00:10:20+0000', 'place': {'id': '1519689118274033', 'location': {'city': 'Natal', 'country': 'Brazil', 'latitude': -5.8516931133451, 'longitude': -35.203580260277, 'state': 'RN', 'street': 'Avenida Engenheiro Roberto Freire 481', 'zip': '59078-600'}, 'name': 'Chiquinho Sorvetes - Natal'}} \n",
      "\n",
      "862034200484130   Ivan Alisson   {'id': '1365828700104675', 'created_time': '2017-02-25T00:01:18+0000', 'place': {'id': '107788405910989', 'location': {'city': 'Caicó', 'country': 'Brazil', 'latitude': -6.45, 'longitude': -37.1, 'state': 'RN'}, 'name': 'Caicó'}} \n",
      "\n",
      "862034200484130   Ivan Alisson   {'id': '1354221261265419', 'created_time': '2017-02-15T01:01:02+0000', 'place': {'id': '1519689118274033', 'location': {'city': 'Natal', 'country': 'Brazil', 'latitude': -5.8516931133451, 'longitude': -35.203580260277, 'state': 'RN', 'street': 'Avenida Engenheiro Roberto Freire 481', 'zip': '59078-600'}, 'name': 'Chiquinho Sorvetes - Natal'}} \n",
      "\n",
      "862034200484130   Ivan Alisson   {'id': '1301670209853858', 'created_time': '2016-12-23T22:28:36+0000', 'place': {'id': '412753798848841', 'location': {'city': 'Mossoró', 'country': 'Brazil', 'latitude': -5.20629, 'longitude': -37.33456, 'state': 'RN', 'street': 'Mossoró RN', 'zip': '59618-000'}, 'name': 'Mossoró RN'}} \n",
      "\n",
      "862034200484130   Ivan Alisson   {'id': '1301481083206104', 'created_time': '2016-12-23T16:24:06+0000', 'place': {'id': '1502583453319923', 'location': {'city': 'Caicó', 'country': 'Brazil', 'latitude': -6.4613589, 'longitude': -37.0971303, 'state': 'RN', 'street': 'Av. Seridó, 726', 'zip': '59300'}, 'name': 'Restaurante Ponto Certo'}} \n",
      "\n",
      "862034200484130   Ivan Alisson   {'id': '1263623943658485', 'created_time': '2016-11-19T14:54:22+0000', 'place': {'id': '1502583453319923', 'location': {'city': 'Caicó', 'country': 'Brazil', 'latitude': -6.4613589, 'longitude': -37.0971303, 'state': 'RN', 'street': 'Av. Seridó, 726', 'zip': '59300'}, 'name': 'Restaurante Ponto Certo'}} \n",
      "\n",
      "862034200484130   Ivan Alisson   {'id': '1075121679175380', 'created_time': '2016-03-10T00:39:55+0000', 'place': {'id': '1423624031216500', 'location': {'city': 'Natal', 'country': 'Brazil', 'latitude': -5.8797528, 'longitude': -35.1758789, 'state': 'RN', 'street': 'Rua Doutor Manoel A. B. de Araújo', 'zip': '59090-430'}, 'name': 'Enigma Hall'}} \n",
      "\n",
      "862034200484130   Ivan Alisson   {'id': '1035074069846808', 'created_time': '2015-12-24T22:31:52+0000', 'place': {'id': '106099089421918', 'location': {'city': 'Mossoró', 'country': 'Brazil', 'latitude': -5.1877777777778, 'longitude': -37.343888888889, 'state': 'RN', 'zip': '59600'}, 'name': 'Mossoró'}} \n",
      "\n",
      "862034200484130   Ivan Alisson   {'id': '969408396413376', 'created_time': '2015-07-29T14:22:34+0000', 'place': {'id': '1468643430069585', 'location': {'city': 'Natal', 'country': 'Brazil', 'latitude': -5.79545, 'longitude': -35.19864, 'state': 'RN', 'street': 'Av. HERMES DA FONSECA'}, 'name': 'IFRN Campus Central'}} \n",
      "\n",
      "862034200484130   Ivan Alisson   {'id': '969078286446387', 'created_time': '2015-07-29T02:38:51+0000', 'place': {'id': '794839920530415', 'location': {'city': 'Natal', 'country': 'Brazil', 'latitude': -5.811843336579, 'longitude': -35.203358142923, 'state': 'RN', 'street': 'Avenida Salgado Filho', 'zip': '59015-300'}, 'name': 'IFRN - Instituto Federal do Rio Grande do Norte'}} \n",
      "\n",
      "862034200484130   Ivan Alisson   {'id': '964804776873738', 'created_time': '2015-07-19T18:06:30+0000', 'place': {'id': '108194375875452', 'location': {'city': 'Natal', 'country': 'Brazil', 'latitude': -5.78333, 'longitude': -35.2167, 'state': 'RN', 'zip': '59000-000'}, 'name': 'Natal, Rio Grande do Norte'}} \n",
      "\n",
      "862034200484130   Ivan Alisson   {'id': '953518861335663', 'created_time': '2015-06-25T13:54:40+0000', 'place': {'id': '286021678120361', 'location': {'city': 'Ceará-Mirim', 'country': 'Brazil', 'latitude': -5.5918591307542, 'longitude': -35.226337001107, 'state': 'RN', 'street': 'prai de jacuma'}, 'name': 'Praia de Jacumã RN'}} \n",
      "\n",
      "862034200484130   Ivan Alisson   {'id': '953024738051742', 'created_time': '2015-06-24T11:49:08+0000', 'place': {'id': '286021678120361', 'location': {'city': 'Ceará-Mirim', 'country': 'Brazil', 'latitude': -5.5918591307542, 'longitude': -35.226337001107, 'state': 'RN', 'street': 'prai de jacuma'}, 'name': 'Praia de Jacumã RN'}} \n",
      "\n",
      "862034200484130   Ivan Alisson   {'id': '951141968240019', 'created_time': '2015-06-20T17:03:17+0000', 'place': {'id': '491370590891390', 'location': {'city': 'Natal', 'country': 'Brazil', 'latitude': -5.8267315438381, 'longitude': -35.212417030082, 'state': 'RN', 'street': 'Av. Prudente de Morais, 5121 - Lagoa Nova', 'zip': '59020-400'}, 'name': 'Arena das Dunas'}} \n",
      "\n",
      "862034200484130   Ivan Alisson   {'id': '917279618292921', 'created_time': '2015-04-12T19:53:14+0000', 'place': {'id': '501988856621699', 'location': {'city': 'Natal', 'country': 'Brazil', 'latitude': -5.8787322, 'longitude': -35.1748505, 'state': 'RN', 'street': 'Rua Erivan França', 'zip': '59078-600'}, 'name': 'Ponta Negra - Beach'}} \n",
      "\n",
      "862034200484130   Ivan Alisson   {'id': '903861029634780', 'created_time': '2015-03-15T19:46:15+0000', 'place': {'id': '265445363592402', 'location': {'city': 'Natal', 'country': 'Brazil', 'latitude': -5.8449691273498, 'longitude': -35.217640399933, 'state': 'RN', 'street': 'Av. Governador Tarcisio  de Vasconcelos Maia, 1958, Galpão C, Candelaria', 'zip': '59066035'}, 'name': 'Tat Wong Kung Fu Academy - Candelária'}} \n",
      "\n",
      "731368400265926   Matheus Batistussi   {'id': '1157927467610015', 'created_time': '2017-01-09T20:40:57+0000', 'place': {'id': '132323543471594', 'location': {'city': 'Rio de Janeiro', 'country': 'Brazil', 'latitude': -22.81, 'longitude': -43.250555555556, 'state': 'RJ', 'street': 'Av. Vinte de Janeiro, s/nº\\nIlha do Governador', 'zip': '21941-900'}, 'name': 'Rio de Janeiro–Galeão International Airport'}} \n",
      "\n",
      "731368400265926   Matheus Batistussi   {'id': '1154826914586737', 'created_time': '2017-01-05T16:39:53+0000', 'place': {'id': '456578471107259', 'location': {'city': 'Rio de Janeiro', 'country': 'Brazil', 'latitude': -23.0056042, 'longitude': -43.3152779, 'state': 'RJ', 'street': 'Estrada Redentor', 'zip': '22640'}, 'name': 'Corcovado - Cristo Redentor'}} \n",
      "\n",
      "731368400265926   Matheus Batistussi   {'id': '1152828721453223', 'created_time': '2017-01-02T20:46:12+0000', 'place': {'id': '755763624472169', 'location': {'city': 'Nova Friburgo', 'country': 'Brazil', 'latitude': -22.280490614286, 'longitude': -42.53295759, 'state': 'RJ', 'street': 'Rua Portugal , 3', 'zip': '28610175'}, 'name': 'Pizzaria California N.F'}} \n",
      "\n",
      "731368400265926   Matheus Batistussi   {'id': '1251047668297994', 'created_time': '2016-08-23T16:58:15+0000', 'place': {'id': '101881036520836', 'location': {'city': 'Philadelphia', 'country': 'United States', 'latitude': 39.998, 'longitude': -75.1448, 'state': 'PA'}, 'name': 'Philadelphia, Pennsylvania'}} \n",
      "\n",
      "731368400265926   Matheus Batistussi   {'id': '949274551808642', 'created_time': '2016-04-08T23:28:21+0000', 'place': {'id': '1410883479172276', 'location': {'city': 'Parnamirim, Rio Grande do Norte', 'latitude': -5.9787981257546, 'longitude': -35.123316628657}, 'name': 'Maior Cajueiro do Mundo'}} \n",
      "\n",
      "731368400265926   Matheus Batistussi   {'id': '1251049571631137', 'created_time': '2016-01-30T18:51:58+0000', 'place': {'id': '104096526294754', 'location': {'latitude': 35.208888888889, 'longitude': -106.44694444444}, 'name': 'Sandia Mountains'}} \n",
      "\n",
      "731368400265926   Matheus Batistussi   {'id': '897101447025953', 'created_time': '2016-01-04T04:58:52+0000', 'place': {'id': '197454433624548', 'location': {'city': 'Extremóz', 'country': 'Brazil', 'latitude': -5.6957068447828, 'located_in': '549281515082991', 'longitude': -35.200057059768, 'state': 'RN', 'street': 'Av Litoranea', 'zip': '59010-030'}, 'name': 'Dunas de Genipabu'}} \n",
      "\n",
      "731368400265926   Matheus Batistussi   {'id': '1050893438313419', 'created_time': '2015-12-31T14:00:00+0000', 'place': {'id': '252089561561924', 'location': {'city': 'Chicago', 'country': 'United States', 'latitude': 41.882678045574, 'located_in': '107993661288', 'longitude': -87.623422746393, 'state': 'IL', 'street': 'millieum park', 'zip': '60602'}, 'name': 'Millenium Park, The Bean, Chicago'}} \n",
      "\n",
      "731368400265926   Matheus Batistussi   {'id': '799570120112420', 'created_time': '2015-05-15T20:38:00+0000', 'place': {'id': '106968456006388', 'location': {'city': 'Madison', 'country': 'United States', 'latitude': 43.06942, 'longitude': -89.396972, 'state': 'WI', 'street': '601 Dayton', 'zip': '53715'}, 'name': 'Kohl Center'}} \n",
      "\n",
      "731368400265926   Matheus Batistussi   {'id': '799570123445753', 'created_time': '2015-05-15T20:37:47+0000', 'place': {'id': '142799009087246', 'location': {'city': 'Madison', 'country': 'United States', 'latitude': 43.069818258606, 'longitude': -89.412325006468, 'state': 'WI', 'street': '1440 Monroe St', 'zip': '53711'}, 'name': 'Camp Randall Stadium'}} \n",
      "\n",
      "731368400265926   Matheus Batistussi   {'id': '799570116779087', 'created_time': '2015-05-15T20:24:59+0000', 'place': {'id': '158007837563811', 'location': {'city': 'Madison', 'country': 'United States', 'latitude': 43.041261246642, 'longitude': -89.43053483963, 'state': 'WI', 'street': '1207 Seminole Hwy', 'zip': '53711-3726'}, 'name': 'UW-Madison Arboretum'}} \n",
      "\n",
      "731368400265926   Matheus Batistussi   {'id': '1251050031631091', 'created_time': '2015-04-10T00:01:42+0000', 'place': {'id': '262142317150925', 'location': {'city': 'New York', 'country': 'United States', 'latitude': 40.70286, 'longitude': -74.01432, 'state': 'NY', 'street': 'Liberty Island New York, NY', 'zip': '10004'}, 'name': 'Statue of Liberty National Monument'}} \n",
      "\n",
      "731368400265926   Matheus Batistussi   {'id': '735408953195204', 'created_time': '2015-01-01T05:41:17+0000', 'place': {'id': '153187658069528', 'location': {'city': 'Madison', 'country': 'United States', 'latitude': 43.06808, 'longitude': -89.4102599, 'state': 'WI', 'street': '1402 Regent St', 'zip': '53711'}, 'name': 'The Regent Apartments'}} \n",
      "\n",
      "731368400265926   Matheus Batistussi   {'id': '730801013655998', 'created_time': '2014-12-25T05:58:34+0000', 'place': {'id': '153187658069528', 'location': {'city': 'Madison', 'country': 'United States', 'latitude': 43.06808, 'longitude': -89.4102599, 'state': 'WI', 'street': '1402 Regent St', 'zip': '53711'}, 'name': 'The Regent Apartments'}} \n",
      "\n",
      "731368400265926   Matheus Batistussi   {'id': '721924654543634', 'created_time': '2014-12-08T01:59:00+0000', 'place': {'id': '5281959998', 'location': {'city': 'New York', 'country': 'United States', 'latitude': 40.756136667167, 'longitude': -73.990155128477, 'state': 'NY', 'street': '620 8th Ave', 'zip': '10018'}, 'name': 'The New York Times'}} \n",
      "\n",
      "731368400265926   Matheus Batistussi   {'id': '721924581210308', 'created_time': '2014-12-08T01:58:49+0000', 'place': {'id': '153817204635459', 'location': {'city': 'New York', 'country': 'United States', 'latitude': 40.749003253823, 'longitude': -73.985594775582, 'state': 'NY', 'zip': '10118'}, 'name': 'Empire State Building'}} \n",
      "\n",
      "731368400265926   Matheus Batistussi   {'id': '721924401210326', 'created_time': '2014-12-08T01:57:24+0000', 'place': {'id': '108793907292', 'location': {'city': 'New York', 'country': 'United States', 'latitude': 40.759061570925, 'longitude': -73.979366986475, 'state': 'NY', 'street': '30 Rockefeller Plaza', 'zip': '10111'}, 'name': 'Top Of The Rock NYC'}} \n",
      "\n",
      "731368400265926   Matheus Batistussi   {'id': '721924341210332', 'created_time': '2014-12-08T01:57:22+0000', 'place': {'id': '29531401902', 'location': {'city': 'New York', 'country': 'United States', 'latitude': 40.759878114493, 'longitude': -73.979756360278, 'state': 'NY', 'street': '1260 Avenue of the Americas', 'zip': '10020'}, 'name': 'Radio City Music Hall'}} \n",
      "\n",
      "731368400265926   Matheus Batistussi   {'id': '721924161210350', 'created_time': '2014-12-08T01:57:09+0000', 'place': {'id': '21557622350', 'location': {'city': 'New York', 'country': 'United States', 'latitude': 40.75299643388, 'longitude': -73.981524537596, 'state': 'NY', 'street': 'Fifth Avenue at 42nd St', 'zip': '10018-2788'}, 'name': 'NYPL The New York Public Library'}} \n",
      "\n",
      "731368400265926   Matheus Batistussi   {'id': '721923821210384', 'created_time': '2014-12-08T01:56:55+0000', 'place': {'id': '113710222109100', 'location': {'latitude': 40.758735492844, 'longitude': -73.978218411698}, 'name': 'Lego Store At Rockfeller Center'}} \n",
      "\n",
      "731368400265926   Matheus Batistussi   {'id': '721923977877035', 'created_time': '2014-12-08T01:56:49+0000', 'place': {'id': '108092532551661', 'location': {'latitude': 40.574416, 'longitude': -73.978575, 'zip': '11224'}, 'name': 'Coney Island'}} \n",
      "\n",
      "731368400265926   Matheus Batistussi   {'id': '721923761210390', 'created_time': '2014-12-08T01:56:24+0000', 'place': {'id': '173429212678086', 'location': {'city': 'New York', 'country': 'United States', 'latitude': 40.758753564847, 'longitude': -73.97869729643, 'state': 'NY', 'street': '45 Rockefeller Plz', 'zip': '10111'}, 'name': 'Rockefeller Center'}} \n",
      "\n",
      "731368400265926   Matheus Batistussi   {'id': '721923677877065', 'created_time': '2014-12-08T01:56:00+0000', 'place': {'id': '218799324823286', 'location': {'latitude': 40.709484879193, 'longitude': -74.010470179007}, 'name': 'Broadway/Wall Street, New York, USA'}} \n",
      "\n",
      "731368400265926   Matheus Batistussi   {'id': '721923017877131', 'created_time': '2014-12-08T01:55:42+0000', 'place': {'id': '237399609626631', 'location': {'city': 'New York', 'country': 'United States', 'latitude': 40.698832573816, 'located_in': '140814275956428', 'longitude': -74.039595434889, 'state': 'NY', 'zip': '10004'}, 'name': 'Ellis Island Immigration Museum'}} \n",
      "\n",
      "731368400265926   Matheus Batistussi   {'id': '721922267877206', 'created_time': '2014-12-08T01:54:55+0000', 'place': {'id': '262142317150925', 'location': {'city': 'New York', 'country': 'United States', 'latitude': 40.70286, 'longitude': -74.01432, 'state': 'NY', 'street': 'Liberty Island New York, NY', 'zip': '10004'}, 'name': 'Statue of Liberty National Monument'}} \n",
      "\n",
      "524429947699837   Gustavo Rodarte   {'id': '725087810967382', 'created_time': '2016-05-29T17:09:53+0000', 'place': {'id': '285545298280322', 'location': {'city': 'Natal', 'country': 'Brazil', 'latitude': -5.8655679, 'longitude': -35.2211345, 'state': 'RN', 'street': 'RUA ESCRITOR NILO PEREIRA 2905 SAN VALE', 'zip': '59066-360'}, 'name': 'GIREH Recepções'}} \n",
      "\n",
      "524429947699837   Gustavo Rodarte   {'id': '700202310122599', 'created_time': '2016-04-02T03:13:41+0000', 'place': {'id': '110743195675313', 'location': {'city': 'João Pessoa', 'country': 'Brazil', 'latitude': -7.1487327370201, 'longitude': -34.798088538998, 'state': 'PB', 'street': 'Rua João Cyrillo', 'zip': '58046-010'}, 'name': 'Estação Cabo Branco - Ciências, Cultura e Artes'}} \n",
      "\n",
      "524429947699837   Gustavo Rodarte   {'id': '684315288377968', 'created_time': '2016-03-05T22:28:29+0000', 'place': {'id': '133583466763977', 'location': {'city': 'Natal', 'country': 'Brazil', 'latitude': -5.8119450716597, 'longitude': -35.20318586899, 'state': 'RN', 'street': 'Avenida Senador Salgado Filho, 1559 - Tirol', 'zip': '59015-290'}, 'name': 'IFRN Natal Central'}} \n",
      "\n",
      "524429947699837   Gustavo Rodarte   {'id': '632630393546458', 'created_time': '2015-10-06T02:58:29+0000', 'place': {'id': '394682640618715', 'location': {'city': 'Touros', 'country': 'Brazil', 'latitude': -5.1364304666667, 'longitude': -35.575517433333, 'state': 'RN', 'street': 'RN-221', 'zip': '59584-000'}, 'name': 'São José De Touros'}} \n",
      "\n",
      "524429947699837   Gustavo Rodarte   {'id': '568028343339997', 'created_time': '2015-04-25T17:35:08+0000', 'place': {'id': '174354062603512', 'location': {'city': 'Natal', 'country': 'Brazil', 'latitude': -5.8663256981525, 'longitude': -35.185498468945, 'state': 'RN', 'street': 'Av. Eng Roberto  Freire,  3132   Ponta Negra', 'zip': '59.090.970'}, 'name': 'Praia Shopping'}} \n",
      "\n",
      "524429947699837   Gustavo Rodarte   {'id': '505610372915128', 'created_time': '2014-12-21T14:35:09+0000', 'place': {'id': '148373468648199', 'location': {'city': 'São Paulo', 'country': 'Brazil', 'latitude': -23.627498042904, 'longitude': -46.656502612583, 'state': 'SP', 'street': 'Aeroporto de Congonhas', 'zip': '04626-911'}, 'name': 'São Paulo–Congonhas Airport'}} \n",
      "\n",
      "524429947699837   Gustavo Rodarte   {'id': '496149807194518', 'created_time': '2014-11-30T00:13:44+0000', 'place': {'id': '263085700510402', 'location': {'city': 'Natal', 'country': 'Brazil', 'latitude': -5.8322112209156, 'longitude': -35.205374709353, 'state': 'RN', 'street': 'Avenida Capitão Mor Gouveia', 'zip': '59076'}, 'name': 'Instituto Metrópole Digital - UFRN'}} \n",
      "\n",
      "524429947699837   Gustavo Rodarte   {'id': '437513076391525', 'created_time': '2014-07-27T15:55:00+0000', 'place': {'id': '109442395741759', 'location': {'city': 'Santa Cruz', 'country': 'Brazil', 'latitude': -6.2288888888889, 'longitude': -36.022777777778, 'state': 'RN'}, 'name': 'Santa Cruz, Rio Grande do Norte'}} \n",
      "\n",
      "524429947699837   Gustavo Rodarte   {'id': '437513073058192', 'created_time': '2014-07-27T15:55:00+0000', 'place': {'id': '109442395741759', 'location': {'city': 'Santa Cruz', 'country': 'Brazil', 'latitude': -6.2288888888889, 'longitude': -36.022777777778, 'state': 'RN'}, 'name': 'Santa Cruz, Rio Grande do Norte'}} \n",
      "\n",
      "524429947699837   Gustavo Rodarte   {'id': '437513069724859', 'created_time': '2014-07-27T15:55:00+0000', 'place': {'id': '109442395741759', 'location': {'city': 'Santa Cruz', 'country': 'Brazil', 'latitude': -6.2288888888889, 'longitude': -36.022777777778, 'state': 'RN'}, 'name': 'Santa Cruz, Rio Grande do Norte'}} \n",
      "\n",
      "524429947699837   Gustavo Rodarte   {'id': '437513066391526', 'created_time': '2014-07-27T15:55:00+0000', 'place': {'id': '109442395741759', 'location': {'city': 'Santa Cruz', 'country': 'Brazil', 'latitude': -6.2288888888889, 'longitude': -36.022777777778, 'state': 'RN'}, 'name': 'Santa Cruz, Rio Grande do Norte'}} \n",
      "\n",
      "524429947699837   Gustavo Rodarte   {'id': '425428530933313', 'created_time': '2014-07-01T23:08:48+0000', 'place': {'id': '1484284835140884', 'location': {'city': 'Parnamirim', 'country': 'Brazil', 'latitude': -5.8986542946081, 'longitude': -35.249924796515, 'state': 'RN', 'zip': '59140'}, 'name': 'Aeroporto Sao Goncalo Do Amarante -Rn'}} \n",
      "\n",
      "524429947699837   Gustavo Rodarte   {'id': '416757968467036', 'created_time': '2014-02-27T01:09:58+0000', 'place': {'id': '135649249878368', 'location': {'city': 'Natal', 'country': 'Brazil', 'latitude': -5.8116984961406, 'longitude': -35.202888672979, 'state': 'RN', 'zip': '59700000'}, 'name': 'Instituto Federal de Educação, Ciência e Tecnologia do RN - IFRN'}} \n",
      "\n",
      "524429947699837   Gustavo Rodarte   {'id': '352628388213328', 'created_time': '2014-01-23T16:41:44+0000', 'place': {'id': '189669794527968', 'location': {'city': 'Parnamirim', 'country': 'Brazil', 'latitude': -5.9392361162075, 'longitude': -35.266281664487, 'state': 'RN', 'street': 'Rua Antônia de Lima Paiva, 155 - Bairro Nova Esperança'}, 'name': 'IFRN - Campus Parnamirim'}} \n",
      "\n",
      "524429947699837   Gustavo Rodarte   {'id': '338490826293751', 'created_time': '2013-12-27T21:19:24+0000', 'place': {'id': '117287465543', 'location': {'city': 'São Paulo', 'country': 'Brazil', 'latitude': -23.57323, 'longitude': -46.67618, 'state': 'SP', 'street': 'Avenida Europa, 158, Jardim Europa', 'zip': '01449001'}, 'name': 'Museu da Imagem e do Som - MIS SP'}} \n",
      "\n"
     ]
    }
   ],
   "source": [
    "locations = []\n",
    "\n",
    "#locations[friendDict] = {'id': user_id, 'name': user_name, 'locations': }\n",
    "\n",
    "for friendDict in range(0, len(friendsStartList)):\n",
    "    user_id = friendsStartList[friendDict]['id']\n",
    "    user_name = friendsStartList[friendDict]['name']\n",
    "    friendTagged = graph.get_object(str(user_id) + \"/tagged_places\")\n",
    "    for place in friendTagged['data']:\n",
    "        print(user_id, \" \", user_name, \" \", place, \"\\n\")"
   ]
  },
  {
   "cell_type": "code",
   "execution_count": null,
   "metadata": {
    "collapsed": true
   },
   "outputs": [],
   "source": []
  }
 ],
 "metadata": {
  "kernelspec": {
   "display_name": "Python 3",
   "language": "python",
   "name": "python3"
  },
  "language_info": {
   "codemirror_mode": {
    "name": "ipython",
    "version": 3
   },
   "file_extension": ".py",
   "mimetype": "text/x-python",
   "name": "python",
   "nbconvert_exporter": "python",
   "pygments_lexer": "ipython3",
   "version": "3.6.0"
  }
 },
 "nbformat": 4,
 "nbformat_minor": 2
}
