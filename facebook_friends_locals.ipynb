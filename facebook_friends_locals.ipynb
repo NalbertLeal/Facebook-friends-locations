{
 "cells": [
  {
   "cell_type": "markdown",
   "metadata": {},
   "source": [
    "# Locals that your facebook friends visit more"
   ]
  },
  {
   "cell_type": "markdown",
   "metadata": {},
   "source": [
    "- "
   ]
  },
  {
   "cell_type": "markdown",
   "metadata": {},
   "source": [
    "## Install_the_librarys"
   ]
  },
  {
   "cell_type": "code",
   "execution_count": null,
   "metadata": {
    "collapsed": false
   },
   "outputs": [],
   "source": [
    "### Library necessary to run this IPython Notebook\n",
    "!pip install facebook-sdk\n",
    "!pip install statistics\n",
    "\n",
    "### API >> https://facebook-sdk.readthedocs.io/en/latest/api.html\n",
    "### Get access token >> https://developers.facebook.com/tools/explorer"
   ]
  },
  {
   "cell_type": "markdown",
   "metadata": {},
   "source": [
    "## Creating_the_fecebook_graph_API_access"
   ]
  },
  {
   "cell_type": "code",
   "execution_count": 64,
   "metadata": {
    "collapsed": true
   },
   "outputs": [],
   "source": [
    "import facebook\n",
    "\n",
    "token = 'EAACEdEose0cBADt3qBzFrw5wokq6LtvfZAF4t6UQPIUkuZAQq55JqhZCyKNREtq9kY5xZCCZCJVkybE3EqKZA1uBZAUtZCgZBDFJlJWcfLiESR3RrOtOZBLjpT5POv5CVPuwKO2YK2SxdBHOwpANF0O5hfwJyRXvkRe1oabj7s9TIap11YGkcZC7z3r5FTfwB33ZCbsZD' \n",
    "graph = facebook.GraphAPI(access_token=token, version='2.2')"
   ]
  },
  {
   "cell_type": "markdown",
   "metadata": {},
   "source": [
    "## Getting_the_friends"
   ]
  },
  {
   "cell_type": "code",
   "execution_count": 65,
   "metadata": {
    "collapsed": false
   },
   "outputs": [],
   "source": [
    "friends = graph.get_object(\"me/friends\")\n",
    "#friends['summary']['total_count']\n",
    "friendsStartList = friends['data']"
   ]
  },
  {
   "cell_type": "markdown",
   "metadata": {
    "collapsed": true
   },
   "source": [
    "## Get_each_user_locations"
   ]
  },
  {
   "cell_type": "code",
   "execution_count": 66,
   "metadata": {
    "collapsed": false
   },
   "outputs": [],
   "source": [
    "locations = []\n",
    "\n",
    "#\n",
    "\n",
    "for friendDict in range(0, len(friendsStartList)):\n",
    "    user_id = friendsStartList[friendDict]['id']\n",
    "    user_name = friendsStartList[friendDict]['name']\n",
    "    locations.append({'id': user_id, 'name': user_name, 'locations': []})\n",
    "    friend_tagged = graph.get_object(str(user_id) + \"/tagged_places\")\n",
    "    for place in friend_tagged['data']:\n",
    "        locations[friendDict]['locations'].append(place)\n",
    "        \n",
    "for friendDict in range(0, len(locations)):\n",
    "    if len(locations[friendDict]['locations']) == 0:\n",
    "        del locations[friendDict]\n",
    "    if len(locations) < friendDict+1:\n",
    "        break"
   ]
  },
  {
   "cell_type": "code",
   "execution_count": 67,
   "metadata": {
    "collapsed": false
   },
   "outputs": [],
   "source": [
    "friends_number = len(locations)\n",
    "for friendDict in range(0, friends_number):\n",
    "    user_id = locations[friendDict]['id']\n",
    "    friend_of_friend = graph.get_object(str(user_id) + \"/friends\")\n",
    "    if len(friend_of_friend['data']) > 0:\n",
    "        for f in friend_of_friend['data']:\n",
    "            f_id = f['id']\n",
    "            f_name = f['name']\n",
    "            locations.append({'id': f_id, 'name': f_name, 'locations': []})\n",
    "            friend_of_friend_tagged = graph.get_object(str(user_id) + \"/tagged_places\")\n",
    "            if len(friend_of_friend_tagged['data']) > 0:\n",
    "                for place in friend_of_friend_tagged['data']:\n",
    "                    locations[-1]['locations'].append(place)\n",
    "                    \n",
    "for friendDict in range(0, friends_number):\n",
    "    if len(locations[friendDict]['locations']) == 0:\n",
    "        del locations[friendDict]\n",
    "    if len(locations) < friendDict+1:\n",
    "        break"
   ]
  },
  {
   "cell_type": "code",
   "execution_count": null,
   "metadata": {
    "collapsed": false
   },
   "outputs": [],
   "source": [
    "print('TOTAL DE PESSOAS: ', len(locations), \"\\n\\n\\n\")\n",
    "for i in range(0, len(locations)):\n",
    "    print(locations[i], \"\\n\")"
   ]
  },
  {
   "cell_type": "code",
   "execution_count": null,
   "metadata": {
    "collapsed": false
   },
   "outputs": [],
   "source": []
  },
  {
   "cell_type": "code",
   "execution_count": null,
   "metadata": {
    "collapsed": true
   },
   "outputs": [],
   "source": []
  }
 ],
 "metadata": {
  "kernelspec": {
   "display_name": "Python 3",
   "language": "python",
   "name": "python3"
  },
  "language_info": {
   "codemirror_mode": {
    "name": "ipython",
    "version": 3
   },
   "file_extension": ".py",
   "mimetype": "text/x-python",
   "name": "python",
   "nbconvert_exporter": "python",
   "pygments_lexer": "ipython3",
   "version": "3.6.0"
  }
 },
 "nbformat": 4,
 "nbformat_minor": 2
}
