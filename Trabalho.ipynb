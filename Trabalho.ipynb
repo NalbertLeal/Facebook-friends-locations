{
 "cells": [
  {
   "cell_type": "markdown",
   "metadata": {},
   "source": [
    "# Locals that your facebook friends visit more"
   ]
  },
  {
   "cell_type": "markdown",
   "metadata": {},
   "source": [
    "- "
   ]
  },
  {
   "cell_type": "markdown",
   "metadata": {},
   "source": [
    "## Install_the_librarys"
   ]
  },
  {
   "cell_type": "code",
   "execution_count": 179,
   "metadata": {},
   "outputs": [
    {
     "name": "stdout",
     "output_type": "stream",
     "text": [
      "Requirement already satisfied: facebook-sdk in c:\\users\\ivana\\anaconda3\\lib\\site-packages\n",
      "Requirement already satisfied: requests in c:\\users\\ivana\\anaconda3\\lib\\site-packages (from facebook-sdk)\n",
      "Requirement already satisfied: statistics in c:\\users\\ivana\\anaconda3\\lib\\site-packages\n",
      "Requirement already satisfied: docutils>=0.3 in c:\\users\\ivana\\anaconda3\\lib\\site-packages (from statistics)\n"
     ]
    }
   ],
   "source": [
    "### Library necessary to run this IPython Notebook\n",
    "!pip install facebook-sdk\n",
    "!pip install statistics\n",
    "\n",
    "### API >> https://facebook-sdk.readthedocs.io/en/latest/api.html\n",
    "### Get access token >> https://developers.facebook.com/tools/explorer"
   ]
  },
  {
   "cell_type": "markdown",
   "metadata": {},
   "source": [
    "## Creating_the_fecebook_graph_API_access"
   ]
  },
  {
   "cell_type": "code",
   "execution_count": 180,
   "metadata": {
    "collapsed": true
   },
   "outputs": [],
   "source": [
    "#imports\n",
    "import facebook\n",
    "import pandas as pd\n",
    "import numpy as np\n",
    "from tqdm import tqdm\n",
    "import folium\n",
    "from folium.plugins import HeatMap\n",
    "\n",
    "token = 'EAACEdEose0cBAKsOuHScVFjhAs1Amq6L4zHxejnaIwcwHSIUu8xmEdVxIwN2yNBgtqgi6LaghWtHkD41NRJn96B8VPWgkMuFVx8tvd8DHIsc8ZBxwFVMWh8GhuD825ThC0nO60bIJtZBmHqh0V3hGPfgl3dRMYJxcZC5TIWAe0bRQAD0Lo4Ew80w0A1BLz11b9xkZC0OhQZDZD' \n",
    "graph = facebook.GraphAPI(access_token=token, version='2.2')"
   ]
  },
  {
   "cell_type": "markdown",
   "metadata": {},
   "source": [
    "## Getting_the_friends"
   ]
  },
  {
   "cell_type": "code",
   "execution_count": 181,
   "metadata": {
    "collapsed": true
   },
   "outputs": [],
   "source": [
    "##Pegar os lugares dos amigos e os meus\n",
    "friends = graph.get_object(\"me/friends\") #Amigos\n",
    "me_places = graph.get_object(\"me/tagged_places\")#Meus\n",
    "#friends['summary']['total_count']\n",
    "\n",
    "friendsStartList = friends['data']\n",
    "my_placesList = me_places[\"data\"]"
   ]
  },
  {
   "cell_type": "markdown",
   "metadata": {
    "collapsed": true
   },
   "source": [
    "## Get_each_user_locations"
   ]
  },
  {
   "cell_type": "code",
   "execution_count": 183,
   "metadata": {},
   "outputs": [],
   "source": [
    "locations = []\n",
    "\n",
    "#\n",
    "\n",
    "for friendDict in range(0, len(friendsStartList)):\n",
    "    user_id = friendsStartList[friendDict]['id']\n",
    "    user_name = friendsStartList[friendDict]['name']\n",
    "    locations.append({'id': user_id, 'name': user_name, 'locations': []})\n",
    "    friend_tagged = graph.get_object(str(user_id) + \"/tagged_places\")\n",
    "    for place in friend_tagged['data']:\n",
    "        locations[friendDict]['locations'].append(place)\n",
    "\n",
    "#Limpando o Location de dados vazios\n",
    "for friendDict in range(len(locations)-1, -1, -1):\n",
    "    if len(locations[friendDict]['locations']) == 0:\n",
    "        del locations[friendDict]"
   ]
  },
  {
   "cell_type": "code",
   "execution_count": 184,
   "metadata": {},
   "outputs": [
    {
     "data": {
      "text/html": [
       "<div>\n",
       "<table border=\"1\" class=\"dataframe\">\n",
       "  <thead>\n",
       "    <tr style=\"text-align: right;\">\n",
       "      <th></th>\n",
       "      <th>ID</th>\n",
       "      <th>User_name</th>\n",
       "      <th>Place_Name</th>\n",
       "      <th>LAT</th>\n",
       "      <th>LON</th>\n",
       "    </tr>\n",
       "  </thead>\n",
       "  <tbody>\n",
       "  </tbody>\n",
       "</table>\n",
       "</div>"
      ],
      "text/plain": [
       "Empty DataFrame\n",
       "Columns: [ID, User_name, Place_Name, LAT, LON]\n",
       "Index: []"
      ]
     },
     "execution_count": 184,
     "metadata": {},
     "output_type": "execute_result"
    }
   ],
   "source": [
    "#Criando Manualmente um DataFrame\n",
    "\n",
    "df = pd.DataFrame(columns=('ID', 'User_name', 'Place_Name', \"LAT\", \"LON\"))\n",
    "df"
   ]
  },
  {
   "cell_type": "code",
   "execution_count": 185,
   "metadata": {
    "collapsed": true
   },
   "outputs": [],
   "source": [
    "#Inserindo os dados dos amigos\n",
    "for friendDict in range(0, len(locations)):\n",
    "    #print(locations[friendDict][\"id\"],locations[friendDict][\"name\"] )\n",
    "    for atual in locations[friendDict]['locations']:\n",
    "        #print(atual[\"place\"], \"\\n\")\n",
    "        df.loc[len(df)+1] = [locations[friendDict][\"id\"], locations[friendDict][\"name\"], atual[\"place\"][\"name\"],\n",
    "                      atual[\"place\"][\"location\"][\"latitude\"], atual[\"place\"][\"location\"][\"longitude\"]]\n",
    "        \n",
    "#Inserindo meus dados\n",
    "for friendDict in range(0, len(my_placesList)):\n",
    "    #print(my_placesList[friendDict][\"id\"], \"Me\", my_placesList[friendDict][\"place\"][\"name\"])\n",
    "    df.loc[len(df)+1] = [my_placesList[friendDict][\"id\"],\"Me\", my_placesList[friendDict][\"place\"][\"name\"],\n",
    "                      my_placesList[friendDict][\"place\"][\"location\"][\"latitude\"], my_placesList[friendDict][\"place\"][\"location\"][\"longitude\"]]\n"
   ]
  },
  {
   "cell_type": "code",
   "execution_count": 186,
   "metadata": {},
   "outputs": [
    {
     "data": {
      "text/html": [
       "<div>\n",
       "<table border=\"1\" class=\"dataframe\">\n",
       "  <thead>\n",
       "    <tr style=\"text-align: right;\">\n",
       "      <th></th>\n",
       "      <th>ID</th>\n",
       "      <th>User_name</th>\n",
       "      <th>Place_Name</th>\n",
       "      <th>LAT</th>\n",
       "      <th>LON</th>\n",
       "    </tr>\n",
       "  </thead>\n",
       "  <tbody>\n",
       "    <tr>\n",
       "      <th>1</th>\n",
       "      <td>10204215934936399</td>\n",
       "      <td>Luan Tavares</td>\n",
       "      <td>Salto do Itiquira, Formosa, Goiás</td>\n",
       "      <td>-15.792714</td>\n",
       "      <td>-47.893775</td>\n",
       "    </tr>\n",
       "    <tr>\n",
       "      <th>2</th>\n",
       "      <td>10204215934936399</td>\n",
       "      <td>Luan Tavares</td>\n",
       "      <td>Reitoria UFRN</td>\n",
       "      <td>-5.839705</td>\n",
       "      <td>-35.201467</td>\n",
       "    </tr>\n",
       "    <tr>\n",
       "      <th>3</th>\n",
       "      <td>10204215934936399</td>\n",
       "      <td>Luan Tavares</td>\n",
       "      <td>Whiskritorio Natal</td>\n",
       "      <td>-5.863116</td>\n",
       "      <td>-35.193069</td>\n",
       "    </tr>\n",
       "    <tr>\n",
       "      <th>4</th>\n",
       "      <td>786112898127224</td>\n",
       "      <td>Nalbert Gabriel</td>\n",
       "      <td>Imd- Ufrn</td>\n",
       "      <td>-5.832736</td>\n",
       "      <td>-35.205368</td>\n",
       "    </tr>\n",
       "    <tr>\n",
       "      <th>5</th>\n",
       "      <td>786112898127224</td>\n",
       "      <td>Nalbert Gabriel</td>\n",
       "      <td>Boqueirão</td>\n",
       "      <td>-7.483330</td>\n",
       "      <td>-36.116700</td>\n",
       "    </tr>\n",
       "  </tbody>\n",
       "</table>\n",
       "</div>"
      ],
      "text/plain": [
       "                  ID        User_name                         Place_Name  \\\n",
       "1  10204215934936399     Luan Tavares  Salto do Itiquira, Formosa, Goiás   \n",
       "2  10204215934936399     Luan Tavares                      Reitoria UFRN   \n",
       "3  10204215934936399     Luan Tavares                 Whiskritorio Natal   \n",
       "4    786112898127224  Nalbert Gabriel                          Imd- Ufrn   \n",
       "5    786112898127224  Nalbert Gabriel                          Boqueirão   \n",
       "\n",
       "         LAT        LON  \n",
       "1 -15.792714 -47.893775  \n",
       "2  -5.839705 -35.201467  \n",
       "3  -5.863116 -35.193069  \n",
       "4  -5.832736 -35.205368  \n",
       "5  -7.483330 -36.116700  "
      ]
     },
     "execution_count": 186,
     "metadata": {},
     "output_type": "execute_result"
    }
   ],
   "source": [
    "#Análise do resultado\n",
    "df.head()"
   ]
  },
  {
   "cell_type": "code",
   "execution_count": 187,
   "metadata": {},
   "outputs": [
    {
     "data": {
      "text/html": [
       "<div>\n",
       "<table border=\"1\" class=\"dataframe\">\n",
       "  <thead>\n",
       "    <tr style=\"text-align: right;\">\n",
       "      <th></th>\n",
       "      <th>Place_Name</th>\n",
       "      <th>LAT</th>\n",
       "      <th>LON</th>\n",
       "      <th>Count</th>\n",
       "    </tr>\n",
       "  </thead>\n",
       "  <tbody>\n",
       "    <tr>\n",
       "      <th>5</th>\n",
       "      <td>Chapada Diamantina</td>\n",
       "      <td>-12.561809</td>\n",
       "      <td>-41.390053</td>\n",
       "      <td>2</td>\n",
       "    </tr>\n",
       "    <tr>\n",
       "      <th>6</th>\n",
       "      <td>Chiquinho Sorvetes - Natal</td>\n",
       "      <td>-5.851693</td>\n",
       "      <td>-35.203580</td>\n",
       "      <td>2</td>\n",
       "    </tr>\n",
       "    <tr>\n",
       "      <th>18</th>\n",
       "      <td>Morro do Pai Inácio</td>\n",
       "      <td>-12.459120</td>\n",
       "      <td>-41.471930</td>\n",
       "      <td>2</td>\n",
       "    </tr>\n",
       "    <tr>\n",
       "      <th>36</th>\n",
       "      <td>Restaurante Ponto Certo</td>\n",
       "      <td>-6.461359</td>\n",
       "      <td>-37.097130</td>\n",
       "      <td>2</td>\n",
       "    </tr>\n",
       "    <tr>\n",
       "      <th>9</th>\n",
       "      <td>Farol da Barra</td>\n",
       "      <td>-13.008230</td>\n",
       "      <td>-38.530095</td>\n",
       "      <td>2</td>\n",
       "    </tr>\n",
       "  </tbody>\n",
       "</table>\n",
       "</div>"
      ],
      "text/plain": [
       "                    Place_Name        LAT        LON  Count\n",
       "5           Chapada Diamantina -12.561809 -41.390053      2\n",
       "6   Chiquinho Sorvetes - Natal  -5.851693 -35.203580      2\n",
       "18         Morro do Pai Inácio -12.459120 -41.471930      2\n",
       "36     Restaurante Ponto Certo  -6.461359 -37.097130      2\n",
       "9               Farol da Barra -13.008230 -38.530095      2"
      ]
     },
     "execution_count": 187,
     "metadata": {},
     "output_type": "execute_result"
    }
   ],
   "source": [
    "#Criando lista de lugares e contando a reccorrencia\n",
    "locais_unique = df[\"Place_Name\"].unique().tolist()\n",
    "\n",
    "dataFinal = df.copy()\n",
    "dataFinal[\"Count\"] = 0\n",
    "\n",
    "dataFinal = pd.DataFrame(dataFinal.groupby([\"Place_Name\", \"LAT\", \"LON\"])['Count'].count()).reset_index()\n",
    "\n",
    "#Lista de lugares visitados em ordem decrescente\n",
    "dataFinal.sort_values(\"Count\", inplace=True, ascending=False)\n",
    "dataFinal.head()"
   ]
  },
  {
   "cell_type": "code",
   "execution_count": 188,
   "metadata": {},
   "outputs": [
    {
     "data": {
      "text/html": [
       "<div style=\"width:100%;\"><div style=\"position:relative;width:100%;height:0;padding-bottom:60%;\"><iframe src=\"data:text/html;charset=utf-8;base64,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\" style=\"position:absolute;width:100%;height:100%;left:0;top:0;border:none !important;\" allowfullscreen webkitallowfullscreen mozallowfullscreen></iframe></div></div>"
      ],
      "text/plain": [
       "<folium.folium.Map at 0x1681d85ecc0>"
      ]
     },
     "execution_count": 188,
     "metadata": {},
     "output_type": "execute_result"
    }
   ],
   "source": [
    "###HeatMap\n",
    "# Set map center and zoom level\n",
    "mapc = [-5.788, -35.202]\n",
    "zoom = 11\n",
    "\n",
    "coordinates = []\n",
    "\n",
    "for i in range(len(dataFinal)):\n",
    "    # eliminate items with'nan' element\n",
    "    if all(~np.isnan([dataFinal.ix[i,'LAT'], dataFinal.ix[i,'LON'], dataFinal.ix[i,'Count']])):\n",
    "        coordinates.append([dataFinal.ix[i,'LAT'], dataFinal.ix[i,'LON'], dataFinal.ix[i,'Count']])\n",
    "\n",
    "# Create map object\n",
    "htMap = folium.Map(location=mapc, zoom_start=zoom)\n",
    "\n",
    "HeatMap(coordinates).add_to(htMap)\n",
    "\n",
    "htMap"
   ]
  },
  {
   "cell_type": "code",
   "execution_count": 189,
   "metadata": {},
   "outputs": [
    {
     "name": "stderr",
     "output_type": "stream",
     "text": [
      "100%|██████████████████████████████████████████████████████████████████████████████████| 42/42 [00:00<00:00, 43.16it/s]\n"
     ]
    },
    {
     "data": {
      "text/html": [
       "<div style=\"width:100%;\"><div style=\"position:relative;width:100%;height:0;padding-bottom:60%;\"><iframe src=\"data:text/html;charset=utf-8;base64,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\" style=\"position:absolute;width:100%;height:100%;left:0;top:0;border:none !important;\" allowfullscreen webkitallowfullscreen mozallowfullscreen></iframe></div></div>"
      ],
      "text/plain": [
       "<folium.folium.Map at 0x16820025470>"
      ]
     },
     "execution_count": 189,
     "metadata": {},
     "output_type": "execute_result"
    }
   ],
   "source": [
    "# Set map center and zoom level\n",
    "mapc = [-5.788, -35.202]\n",
    "zoom = 11\n",
    "\n",
    "# Create map object\n",
    "map_osm = folium.Map(location=mapc, zoom_start=zoom)\n",
    "\n",
    "dataFinal = dataFinal.reset_index()\n",
    "\n",
    "# Plot each of the locations that we geocoded\n",
    "for j in tqdm(range(len(dataFinal))):\n",
    "    if (j < 5):\n",
    "        folium.Marker([dataFinal.ix[j,'LAT'], dataFinal.ix[j,'LON']],\n",
    "                      popup=(str(j+1)+\"º - \"+dataFinal.ix[j,'Place_Name']),\n",
    "                      icon = folium.Icon(color ='red')).add_to(map_osm)\n",
    "    else:\n",
    "        folium.Marker([dataFinal.ix[j,'LAT'], dataFinal.ix[j,'LON']],\n",
    "                      popup=(str(j+1)+\"º - \"+dataFinal.ix[j,'Place_Name'])).add_to(map_osm)\n",
    "# Show the map\n",
    "map_osm"
   ]
  },
  {
   "cell_type": "code",
   "execution_count": null,
   "metadata": {},
   "outputs": [],
   "source": []
  },
  {
   "cell_type": "code",
   "execution_count": null,
   "metadata": {},
   "outputs": [],
   "source": []
  },
  {
   "cell_type": "code",
   "execution_count": null,
   "metadata": {
    "collapsed": true
   },
   "outputs": [],
   "source": []
  },
  {
   "cell_type": "code",
   "execution_count": null,
   "metadata": {
    "collapsed": true
   },
   "outputs": [],
   "source": []
  }
 ],
 "metadata": {
  "kernelspec": {
   "display_name": "Python 3",
   "language": "python",
   "name": "python3"
  },
  "language_info": {
   "codemirror_mode": {
    "name": "ipython",
    "version": 3
   },
   "file_extension": ".py",
   "mimetype": "text/x-python",
   "name": "python",
   "nbconvert_exporter": "python",
   "pygments_lexer": "ipython3",
   "version": "3.6.0"
  }
 },
 "nbformat": 4,
 "nbformat_minor": 2
}
